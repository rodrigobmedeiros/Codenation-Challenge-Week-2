{
 "cells": [
  {
   "cell_type": "markdown",
   "metadata": {},
   "source": [
    "# Codenation Challenge - Week 2"
   ]
  },
  {
   "cell_type": "code",
   "execution_count": 4,
   "metadata": {},
   "outputs": [],
   "source": [
    "# Importing the main libraries used in this challenge.\n",
    "import numpy as np\n",
    "import pandas as pd\n",
    "import json as json"
   ]
  },
  {
   "cell_type": "code",
   "execution_count": 5,
   "metadata": {},
   "outputs": [],
   "source": [
    "# Define the Data Frame by reading a .csv file\n",
    "df = pd.read_csv('desafio1.csv')"
   ]
  },
  {
   "cell_type": "code",
   "execution_count": 6,
   "metadata": {},
   "outputs": [
    {
     "data": {
      "text/plain": [
       "(7000, 12)"
      ]
     },
     "execution_count": 6,
     "metadata": {},
     "output_type": "execute_result"
    }
   ],
   "source": [
    "# Verify the data frame dimension.\n",
    "df.shape"
   ]
  },
  {
   "cell_type": "code",
   "execution_count": 7,
   "metadata": {},
   "outputs": [
    {
     "name": "stdout",
     "output_type": "stream",
     "text": [
      "<class 'pandas.core.frame.DataFrame'>\n",
      "RangeIndex: 7000 entries, 0 to 6999\n",
      "Data columns (total 12 columns):\n",
      "RowNumber                   7000 non-null int64\n",
      "id                          7000 non-null object\n",
      "sobrenome                   7000 non-null object\n",
      "pontuacao_credito           7000 non-null int64\n",
      "estado_residencia           7000 non-null object\n",
      "genero                      7000 non-null object\n",
      "idade                       7000 non-null int64\n",
      "nivel_estabilidade          7000 non-null int64\n",
      "saldo_conta                 7000 non-null float64\n",
      "numero_produtos             7000 non-null int64\n",
      "possui_cartao_de_credito    7000 non-null int64\n",
      "membro_ativo                7000 non-null int64\n",
      "dtypes: float64(1), int64(7), object(4)\n",
      "memory usage: 656.4+ KB\n"
     ]
    }
   ],
   "source": [
    "# Verify information of each column.\n",
    "df.info()"
   ]
  },
  {
   "cell_type": "code",
   "execution_count": 8,
   "metadata": {},
   "outputs": [],
   "source": [
    "# Challenge objective:\n",
    "# The answer must contain the values of mean, median, mode and standard deviation of the credit score for each state.\n",
    "# The file for submission must be in json format, according to the example file \"submission.json\".\n",
    "\n",
    "# Calculate:\n",
    "# - mnode\n",
    "# - median\n",
    "# - mean\n",
    "# - standard deviation"
   ]
  },
  {
   "cell_type": "code",
   "execution_count": 10,
   "metadata": {},
   "outputs": [],
   "source": [
    "# Create a data frame grouping by 'estado_residencia' and saving information of the 'pontuacao_credito' column\n",
    "# Insight: I like to use double [] to pass the column name in order to get a pandas dataframe and not pandas series\n",
    "df_groupedby_state = df.groupby('estado_residencia')[['pontuacao_credito']]\n",
    "\n",
    "# Calculate mode, median, mean and std\n",
    "# mode method return a tuple, to solve this I reset and set index again to make sure that state are the index.\n",
    "mode = df_groupedby_state.apply(pd.DataFrame.mode).reset_index().set_index('estado_residencia')\n",
    "median = df_groupedby_state.median()\n",
    "mean = df_groupedby_state.mean()\n",
    "std = df_groupedby_state.std()\n",
    "\n",
    "\n",
    "# Extract a state list from original data frame.\n",
    "state_column_name = 'estado_residencia'\n",
    "states = df[state_column_name].unique().tolist()\n",
    "\n",
    "# Create a dict to built the json file\n",
    "export_json = {}\n",
    "\n",
    "# Loop to calculate info for each state\n",
    "for state in states:\n",
    "    \n",
    "    # Insight: Create dictionary inside the loop so that at each step it is allocated in memory again.\n",
    "    # This prevents the information for all states to be equal\n",
    "\n",
    "    info_state = {\"moda\": 0.0, \"mediana\": 0.0, \"media\": 0.0, \"desvio_padrao\": 0.0}\n",
    "    \n",
    "    # just associate the right value in the right place inside the dict.\n",
    "    # Insight: json has problem with int64 and float64 so remember to change the types to native types from python.\n",
    "    info_state['moda'] = int(mode[mode.index == state]['pontuacao_credito'][0])\n",
    "    info_state['mediana'] = int(median[median.index == state]['pontuacao_credito'][0]) \n",
    "    info_state['media'] = float(round(mean[mean.index == state]['pontuacao_credito'][0], 2)) \n",
    "    info_state['desvio_padrao'] = float(round(std[std.index == state]['pontuacao_credito'][0], 2)) \n",
    "    \n",
    "    # Associate the actual information to actual state.\n",
    "    export_json[state] = info_state\n",
    "\n",
    "\n",
    "\n",
    "# Just write the json file with the complete dict.\n",
    "with open('submission.json', 'w') as json_file:\n",
    "    json.dump(export_json, json_file, indent=4, ensure_ascii=False)\n"
   ]
  },
  {
   "cell_type": "code",
   "execution_count": null,
   "metadata": {},
   "outputs": [],
   "source": []
  }
 ],
 "metadata": {
  "kernelspec": {
   "display_name": "Python 3",
   "language": "python",
   "name": "python3"
  },
  "language_info": {
   "codemirror_mode": {
    "name": "ipython",
    "version": 3
   },
   "file_extension": ".py",
   "mimetype": "text/x-python",
   "name": "python",
   "nbconvert_exporter": "python",
   "pygments_lexer": "ipython3",
   "version": "3.7.4"
  }
 },
 "nbformat": 4,
 "nbformat_minor": 2
}
